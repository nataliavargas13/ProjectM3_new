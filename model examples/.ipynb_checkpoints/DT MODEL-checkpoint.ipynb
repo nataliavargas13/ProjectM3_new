{
 "cells": [
  {
   "cell_type": "code",
   "execution_count": null,
   "id": "580d7821",
   "metadata": {},
   "outputs": [],
   "source": [
    "import pandas as pd\n",
    "import numpy as np \n",
    "import seaborn as sns\n",
    "from sklearn.preprocessing import LabelEncoder\n",
    "from sklearn.linear_model import LinearRegression\n",
    "from sklearn.impute import SimpleImputer\n",
    "from sklearn.preprocessing import StandardScaler\n",
    "from sklearn.preprocessing import MinMaxScaler\n",
    "from sklearn.preprocessing import RobustScaler\n",
    "from sklearn.model_selection import cross_val_score\n",
    "from sklearn.metrics import mean_squared_error\n",
    "from sklearn.tree import DecisionTreeClassifier\n",
    "from sklearn.model_selection import train_test_split"
   ]
  },
  {
   "cell_type": "code",
   "execution_count": null,
   "id": "ddd31aa7",
   "metadata": {},
   "outputs": [],
   "source": [
    "diamonds_test = pd.read_csv('../data/diamonds_test_enc.csv')\n",
    "diamonds_test "
   ]
  },
  {
   "cell_type": "code",
   "execution_count": null,
   "id": "07281113",
   "metadata": {},
   "outputs": [],
   "source": [
    "diamonds_train = pd.read_csv('../data/diamonds_train_enc.csv')\n",
    "diamonds_train"
   ]
  },
  {
   "cell_type": "code",
   "execution_count": null,
   "id": "89f7c523",
   "metadata": {},
   "outputs": [],
   "source": [
    "nuevo_orden = ['cut', 'color', 'clarity', 'city', 'id', 'carat', 'depth', 'table', 'x',\n",
    "       'y', 'z','price']\n",
    "diamonds_train = diamonds_train.reindex(columns=nuevo_orden)"
   ]
  },
  {
   "cell_type": "code",
   "execution_count": null,
   "id": "794294de",
   "metadata": {},
   "outputs": [],
   "source": [
    "X = diamonds_train.drop('price', axis=1)\n",
    "y = diamonds_train['price']\n"
   ]
  },
  {
   "cell_type": "code",
   "execution_count": null,
   "id": "a92c3d3c",
   "metadata": {},
   "outputs": [],
   "source": [
    "X_train ,X_test ,y_train,y_test = train_test_split(X,y,test_size=0.20,random_state=42)\n",
    "print(f\"X_train: {X_train.shape}, X_test: {X_test.shape}, y_train: {y_train.shape}, y_test: {y_test.shape}\")"
   ]
  },
  {
   "cell_type": "code",
   "execution_count": null,
   "id": "5d44989d",
   "metadata": {},
   "outputs": [],
   "source": [
    "# Model definition\n",
    "\n",
    "model = DecisionTreeClassifier()\n",
    "\n",
    "hyperparameters = model.get_params()\n",
    "\n",
    "print(type(model), '\\n')\n",
    "print('Model hyperparameters:', hyperparameters, '\\n')"
   ]
  },
  {
   "cell_type": "code",
   "execution_count": null,
   "id": "e258ff50",
   "metadata": {},
   "outputs": [],
   "source": [
    "%%time\n",
    "\n",
    "\n",
    "# Model training\n",
    "\n",
    "model.fit(X, y)\n",
    "\n",
    "print('Model:', model, '\\n')\n",
    "print('Model hyperparameters:', hyperparameters, '\\n')"
   ]
  },
  {
   "cell_type": "code",
   "execution_count": null,
   "id": "be2fe238",
   "metadata": {},
   "outputs": [],
   "source": [
    "%%time\n",
    "\n",
    "# Model predictions\n",
    "\n",
    "y_pred = model.predict(X_test)\n",
    "\n",
    "print(type(y_pred))"
   ]
  },
  {
   "cell_type": "code",
   "execution_count": null,
   "id": "b30d1d02",
   "metadata": {},
   "outputs": [],
   "source": [
    "# RMSE calculation\n",
    "\n",
    "rmse = mean_squared_error(y_test, y_pred, squared=False)\n",
    "rmse"
   ]
  },
  {
   "cell_type": "code",
   "execution_count": null,
   "id": "68e29a20",
   "metadata": {},
   "outputs": [],
   "source": [
    "y_prediction = model.predict(diamonds_test)\n",
    "y_prediction"
   ]
  },
  {
   "cell_type": "code",
   "execution_count": null,
   "id": "97bcf58e",
   "metadata": {},
   "outputs": [],
   "source": [
    "predict = pd.DataFrame(y_prediction,columns=['price'])"
   ]
  },
  {
   "cell_type": "code",
   "execution_count": null,
   "id": "83ad1eff",
   "metadata": {},
   "outputs": [],
   "source": [
    "predict['id']= range(0,len(predict))\n"
   ]
  },
  {
   "cell_type": "code",
   "execution_count": null,
   "id": "594bd95b",
   "metadata": {},
   "outputs": [],
   "source": [
    "predict= predict[['id', 'price']]\n",
    "predict"
   ]
  },
  {
   "cell_type": "code",
   "execution_count": null,
   "id": "f43448d9",
   "metadata": {},
   "outputs": [],
   "source": [
    "predict.to_csv('./data/decisiontree_1402.csv', index=False)"
   ]
  }
 ],
 "metadata": {
  "kernelspec": {
   "display_name": "python (m3_env)",
   "language": "python",
   "name": "m3_env"
  },
  "language_info": {
   "codemirror_mode": {
    "name": "ipython",
    "version": 3
   },
   "file_extension": ".py",
   "mimetype": "text/x-python",
   "name": "python",
   "nbconvert_exporter": "python",
   "pygments_lexer": "ipython3",
   "version": "3.11.5"
  }
 },
 "nbformat": 4,
 "nbformat_minor": 5
}
